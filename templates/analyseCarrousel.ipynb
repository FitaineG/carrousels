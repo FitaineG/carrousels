{
 "cells": [
  {
   "cell_type": "markdown",
   "metadata": {
    "tags": []
   },
   "source": [
    "<h1 style=\"text-align: center;\">Analyses d'un carrousel</h1>"
   ]
  },
  {
   "cell_type": "markdown",
   "metadata": {},
   "source": [
    "# Préparation"
   ]
  },
  {
   "cell_type": "markdown",
   "metadata": {
    "tags": []
   },
   "source": [
    "## Imports des modules et configuration de base"
   ]
  },
  {
   "cell_type": "code",
   "execution_count": null,
   "metadata": {
    "tags": []
   },
   "outputs": [],
   "source": [
    "import pandas as pd\n",
    "import numpy as np\n",
    "import matplotlib.pyplot as plt\n",
    "import seaborn as sns"
   ]
  },
  {
   "cell_type": "markdown",
   "metadata": {
    "tags": []
   },
   "source": [
    "### # import du package `carrouselsAnalysis` et des classes, et tracks préconfigurées "
   ]
  },
  {
   "cell_type": "code",
   "execution_count": null,
   "metadata": {
    "tags": []
   },
   "outputs": [],
   "source": [
    "# on importe le package complet `carrouselsAnalysis`\n",
    "import carrouselsAnalysis"
   ]
  },
  {
   "cell_type": "code",
   "execution_count": null,
   "metadata": {
    "tags": []
   },
   "outputs": [],
   "source": [
    "#--------\n",
    "# On importe la fonction de définition du style graphique\n",
    "#--------\n",
    "from carrouselsAnalysis import set_carrouselsAnalysis_graphic_style\n",
    "#--------\n",
    "# on modifie le style graphique de carrouselsAnalysis si nécessaire\n",
    "#--------\n",
    "#set_carrouselsAnalysis_graphic_style(titleSize=20,\n",
    "#                                     xaxisSize=16,\n",
    "#                                     yaxisSize=16)"
   ]
  },
  {
   "cell_type": "code",
   "execution_count": null,
   "metadata": {
    "tags": []
   },
   "outputs": [],
   "source": [
    "# on importe les classes Track et Carrousel du module `data`\n",
    "from carrouselsAnalysis.carrousel import Track, Carrousel"
   ]
  },
  {
   "cell_type": "markdown",
   "metadata": {
    "tags": []
   },
   "source": [
    "TODO classe Carrousel:\n",
    "- gestion d'un format de données par défaut pour le carrousel (FABISIS ou MG)"
   ]
  },
  {
   "cell_type": "markdown",
   "metadata": {
    "tags": []
   },
   "source": [
    "**NOTE pour l'utilisateur**:\n",
    "- si nécessaire, changer le nom de la track préconfigurée à importer ci-dessous, après la mention `import`"
   ]
  },
  {
   "cell_type": "code",
   "execution_count": null,
   "metadata": {
    "tags": []
   },
   "outputs": [],
   "source": [
    "# on importe la configuration de track LilleL1 pré-configurée dans le module `tracks`\n",
    "from carrouselsAnalysis.tracks import LilleL1"
   ]
  },
  {
   "cell_type": "markdown",
   "metadata": {},
   "source": [
    "# Création de la track et d'une instance de carrousel"
   ]
  },
  {
   "cell_type": "markdown",
   "metadata": {
    "tags": []
   },
   "source": [
    "**NOTE pour l'utilisateur**:\n",
    "- adapter ci-dessous le chemin des données ainsi que les éléments `source` et `contexte` du carrousel\n",
    "- ajouter une référence (textuelle) de `build` s'il ne s'agit pas d'une version officielle"
   ]
  },
  {
   "cell_type": "code",
   "execution_count": null,
   "metadata": {
    "tags": []
   },
   "outputs": [],
   "source": [
    "# chemin des données à importer en local\n",
    "chemin_data = './data/site/Lille_FLUENCE_DATA-2022-10-16&17__v1.xlsx'\n",
    "\n",
    "# source des données. Typiquement 'FIVP' ou 'Site'\n",
    "source = 'Site'\n",
    "\n",
    "# contexte du carrousel. Typiquement 'mono-train' ou 'multi-trains'\n",
    "contexte = 'multi-trains'\n",
    "\n",
    "# référence du build utilisé (si non officiel, sinon la SoftwareVersion utilisée est celle extraite de l'OMAP)\n",
    "build = '137b65'"
   ]
  },
  {
   "cell_type": "markdown",
   "metadata": {
    "tags": []
   },
   "source": [
    "**NOTE pour l'utilisateur**:\n",
    "- changer la référence de la track préconfigurée utilisée ci-dessous si ce n'est pas LilleL1"
   ]
  },
  {
   "cell_type": "code",
   "execution_count": null,
   "metadata": {
    "tags": []
   },
   "outputs": [],
   "source": [
    "# création de la track LilleL1\n",
    "track_1 = Track(LilleL1)"
   ]
  },
  {
   "cell_type": "code",
   "execution_count": null,
   "metadata": {
    "tags": []
   },
   "outputs": [],
   "source": [
    "# création du carrousel\n",
    "c = Carrousel(track=track_1, source=source, context=contexte, dataPath=chemin_data, build=build)"
   ]
  },
  {
   "cell_type": "markdown",
   "metadata": {},
   "source": [
    "## Import des données"
   ]
  },
  {
   "cell_type": "markdown",
   "metadata": {
    "tags": []
   },
   "source": [
    "utilisation des méthodes `get_movement`, `get_EB`"
   ]
  },
  {
   "cell_type": "code",
   "execution_count": null,
   "metadata": {
    "tags": []
   },
   "outputs": [],
   "source": [
    "# on importe les données de mouvement\n",
    "c.get_movement()"
   ]
  },
  {
   "cell_type": "markdown",
   "metadata": {
    "tags": []
   },
   "source": [
    "TODO METHOD `get_movement`:\n",
    "- gestion du format d'input (Fabisis ou MG) hérité du carrousel\n",
    "- renommer la colonne stopStation en enlevant les `_0` et `_1` et en définissant une colonne `amont/aval`\n",
    "- utiliser la colonne `SW version` pour définir un attribut de classe `version` qui pourra être hérité"
   ]
  },
  {
   "cell_type": "code",
   "execution_count": null,
   "metadata": {
    "tags": []
   },
   "outputs": [],
   "source": [
    "# on importe les données de freinage d'urgence\n",
    "c.get_EB()"
   ]
  },
  {
   "cell_type": "markdown",
   "metadata": {
    "tags": []
   },
   "source": [
    "TODO METHOD `get_EB`:\n",
    "- récupérer la `version` de la classe carrousel\n",
    "- gestion du format d'input (FABISIS ou MG) hérité du carrousel"
   ]
  },
  {
   "cell_type": "markdown",
   "metadata": {},
   "source": [
    "# Graphiques & indicateurs"
   ]
  },
  {
   "cell_type": "markdown",
   "metadata": {
    "tags": []
   },
   "source": [
    "TODO pour toutes les méthodes graphiques:\n",
    "- gestion taille ticks"
   ]
  },
  {
   "cell_type": "markdown",
   "metadata": {
    "tags": []
   },
   "source": [
    "## Histogramme de précision globale de pilotage ATO"
   ]
  },
  {
   "cell_type": "markdown",
   "metadata": {
    "tags": []
   },
   "source": [
    "À FAIRE"
   ]
  },
  {
   "cell_type": "markdown",
   "metadata": {
    "tags": []
   },
   "source": [
    "## Arrêts ratés"
   ]
  },
  {
   "cell_type": "markdown",
   "metadata": {},
   "source": [
    "### Synthèse"
   ]
  },
  {
   "cell_type": "code",
   "execution_count": null,
   "metadata": {},
   "outputs": [],
   "source": [
    "c.synthese_arrets_rates(detailedState=True)"
   ]
  },
  {
   "cell_type": "markdown",
   "metadata": {
    "tags": []
   },
   "source": [
    "### Au global"
   ]
  },
  {
   "cell_type": "code",
   "execution_count": null,
   "metadata": {},
   "outputs": [],
   "source": [
    "c.camembert_arrets_rates(resistivityState=['non-receptive',\n",
    "                                           'partiellement'])"
   ]
  },
  {
   "cell_type": "code",
   "execution_count": null,
   "metadata": {},
   "outputs": [],
   "source": [
    "c.histo_precision(xRange=(-1.3, 1.3))"
   ]
  },
  {
   "cell_type": "code",
   "execution_count": null,
   "metadata": {},
   "outputs": [],
   "source": [
    "c.histo_precision_compare(xRange=(-2, 2),\n",
    "                          dataCompare='CorrectDocking',\n",
    "                         y='freq', globalFreq=True, style='bar')"
   ]
  },
  {
   "cell_type": "code",
   "execution_count": null,
   "metadata": {},
   "outputs": [],
   "source": [
    "c.histo_precision_compare(x='absoluteDistanceSSP',\n",
    "                          dataCompare='CorrectDocking',\n",
    "                         y='freq', globalFreq=True, style='barstacked',\n",
    "                         cumulative=True, xlim=(-0.1, 2),\n",
    "                         bins=[0, 0.17, 0.3, 0.5, 0.6, 0.82, 2])"
   ]
  },
  {
   "cell_type": "code",
   "execution_count": null,
   "metadata": {},
   "outputs": [],
   "source": [
    "c.histo_precision_filter(x='absoluteDistanceSSP',\n",
    "                         dataFilter='CorrectDocking',\n",
    "                         filterValue=False,\n",
    "                         cumulative=True, y='freq', xlim=(-0.1, 2),\n",
    "                        bins=[0, 0.17, 0.3, 0.5, 0.6, 0.82, 2])"
   ]
  },
  {
   "cell_type": "code",
   "execution_count": null,
   "metadata": {},
   "outputs": [],
   "source": [
    "c.histo_precision_filter(x='DistanceSSP',\n",
    "                         xRange=(-3, 2), y='freq', bins=40,\n",
    "                        dataFilter='resistivityStateDual',\n",
    "                        filterValue='non-receptive')"
   ]
  },
  {
   "cell_type": "code",
   "execution_count": null,
   "metadata": {},
   "outputs": [],
   "source": [
    "c.histo_precision_filter(x='absoluteDistanceSSP',\n",
    "                         xRange=(0,2), y='freq', cumulative=True,\n",
    "                         xlim=(-0.1, 2),\n",
    "                         bins=[0, 0.17, 0.3, 0.5, 0.6, 0.82, 2],\n",
    "                         dataFilter='resistivityStateDetailed',\n",
    "                         filterValue='non-receptive',\n",
    "                        legend=True)"
   ]
  },
  {
   "cell_type": "code",
   "execution_count": null,
   "metadata": {},
   "outputs": [],
   "source": [
    "sns.scatterplot(x='absoluteDistanceSSP', y='NVCommandSup40p',\n",
    "               data=c.movements)"
   ]
  },
  {
   "cell_type": "code",
   "execution_count": null,
   "metadata": {},
   "outputs": [],
   "source": [
    "dataviolin=c.movements[\n",
    "    c.movements['DistanceSSP'] > -15]\n",
    "list(dataviolin['TypeMovement'].unique())"
   ]
  },
  {
   "cell_type": "code",
   "execution_count": null,
   "metadata": {},
   "outputs": [],
   "source": [
    "sns.catplot(data=dataviolin, x='DistanceSSP', y='StopTrackId',\n",
    "            col='Direction', hue='resistivityStateDual',\n",
    "            kind='violin', scale='count',\n",
    "           inner='quartile', split=True, orient='h')\n",
    "plt.show()"
   ]
  },
  {
   "cell_type": "code",
   "execution_count": null,
   "metadata": {},
   "outputs": [],
   "source": [
    "sns.catplot(data=dataviolin, x='resistivityStateDual', hue='CorrectDocking',\n",
    "            kind='count')\n",
    "sns.countplot()\n",
    "plt.xticks([0, 1], labels=['receptive', 'non-receptive'], rotation=None)\n",
    "plt.show()"
   ]
  },
  {
   "cell_type": "markdown",
   "metadata": {},
   "source": [
    "### Par station"
   ]
  },
  {
   "cell_type": "code",
   "execution_count": null,
   "metadata": {},
   "outputs": [],
   "source": [
    "c.missed_stops_pct_by_station()"
   ]
  },
  {
   "cell_type": "markdown",
   "metadata": {},
   "source": [
    "### Par train"
   ]
  },
  {
   "cell_type": "code",
   "execution_count": null,
   "metadata": {},
   "outputs": [],
   "source": [
    "c.missed_stops_pct_by_train()"
   ]
  },
  {
   "cell_type": "markdown",
   "metadata": {},
   "source": [
    "### Par période de temps"
   ]
  },
  {
   "cell_type": "markdown",
   "metadata": {},
   "source": [
    "## Précision d'arrêt par station"
   ]
  },
  {
   "cell_type": "markdown",
   "metadata": {},
   "source": [
    "### Précision moyenne"
   ]
  },
  {
   "cell_type": "markdown",
   "metadata": {
    "tags": []
   },
   "source": [
    "**Note pour l'utilisateur**:\n",
    "- pour ajouter un intervalle de confiance basé sur l'écart type, utiliser `ci='sd'`"
   ]
  },
  {
   "cell_type": "code",
   "execution_count": null,
   "metadata": {
    "tags": []
   },
   "outputs": [],
   "source": [
    "c.trace_precision_station()"
   ]
  },
  {
   "cell_type": "markdown",
   "metadata": {},
   "source": [
    "### Dispersion des arrêts par station"
   ]
  },
  {
   "cell_type": "code",
   "execution_count": null,
   "metadata": {
    "tags": []
   },
   "outputs": [],
   "source": [
    "c.trace_dispersion_station()"
   ]
  },
  {
   "cell_type": "code",
   "execution_count": null,
   "metadata": {},
   "outputs": [],
   "source": [
    "fig = plt.figure(figsize=(8,10))\n",
    "sns.catplot(data=c.movements, x='DistanceSSP', y='StopStation',\n",
    "            hue='resistivityStateDual',\n",
    "            kind='violin', scale='count',\n",
    "           inner='quartile', split=True, orient='h', height = 20, aspect=0.4)\n",
    "plt.xlim(1, -1)\n",
    "plt.show()"
   ]
  },
  {
   "cell_type": "markdown",
   "metadata": {},
   "source": [
    "## Précision d'arrêt par train"
   ]
  },
  {
   "cell_type": "markdown",
   "metadata": {},
   "source": [
    "### Précision moyenne par train"
   ]
  },
  {
   "cell_type": "code",
   "execution_count": null,
   "metadata": {
    "tags": []
   },
   "outputs": [],
   "source": [
    "c.trace_precision_train()"
   ]
  },
  {
   "cell_type": "markdown",
   "metadata": {},
   "source": [
    "### Dispersion par train"
   ]
  },
  {
   "cell_type": "code",
   "execution_count": null,
   "metadata": {
    "tags": []
   },
   "outputs": [],
   "source": [
    "c.trace_dispersion_train(figsize=(9.5,12))"
   ]
  },
  {
   "cell_type": "markdown",
   "metadata": {},
   "source": [
    "## Temps de parcours"
   ]
  },
  {
   "cell_type": "markdown",
   "metadata": {
    "tags": []
   },
   "source": [
    "Note TODO:\n",
    "- gestion du carrousel nominal seulement (par défaut) via les `PexMovements` de la track -> voir les mouvements nominaux à définir dans le carrousel\n",
    "- et ordonnancement des movements nominaux dans l'ordre v1 puis v2"
   ]
  },
  {
   "cell_type": "code",
   "execution_count": null,
   "metadata": {
    "tags": []
   },
   "outputs": [],
   "source": [
    "c.trace_tps_parcours()"
   ]
  },
  {
   "cell_type": "code",
   "execution_count": null,
   "metadata": {
    "tags": []
   },
   "outputs": [],
   "source": [
    "c.trace_disp_tps_parcours(ylim=(40,110))"
   ]
  },
  {
   "cell_type": "markdown",
   "metadata": {},
   "source": [
    "## Temps de parcours comparés mono-train vs multi-trains"
   ]
  },
  {
   "cell_type": "markdown",
   "metadata": {
    "tags": []
   },
   "source": [
    "À FAIRE"
   ]
  },
  {
   "cell_type": "markdown",
   "metadata": {},
   "source": [
    "## Vitesse commerciale"
   ]
  },
  {
   "cell_type": "markdown",
   "metadata": {
    "tags": []
   },
   "source": [
    "À FAIRE: utilisation des `PexMovements` de la track"
   ]
  },
  {
   "cell_type": "markdown",
   "metadata": {},
   "source": [
    "### Vitesse commerciale moyenne par voie"
   ]
  },
  {
   "cell_type": "markdown",
   "metadata": {},
   "source": [
    "### Vitesse commerciale avec les temps de parcours mini"
   ]
  },
  {
   "cell_type": "markdown",
   "metadata": {},
   "source": [
    "## Freinages d'urgence"
   ]
  },
  {
   "cell_type": "markdown",
   "metadata": {},
   "source": [
    "### Répartition des freinages d'urgence par mouvement"
   ]
  },
  {
   "cell_type": "markdown",
   "metadata": {},
   "source": [
    "#### y compris par type de mouvement (HLP, PEX, ??)"
   ]
  },
  {
   "cell_type": "markdown",
   "metadata": {},
   "source": [
    "### Répartition des freinages d'urgence par KP"
   ]
  },
  {
   "cell_type": "code",
   "execution_count": null,
   "metadata": {
    "tags": []
   },
   "outputs": [],
   "source": [
    "c.trace_EB_by_KP(ylim=(0,15))"
   ]
  },
  {
   "cell_type": "markdown",
   "metadata": {},
   "source": [
    "### Répartition des freinages d'urgence dans le temps"
   ]
  },
  {
   "cell_type": "markdown",
   "metadata": {
    "tags": []
   },
   "source": [
    "Note TODO:\n",
    "- améliorer la représentation du format date dans les label d'axe\n",
    "- permettre de choisir la période de temps représentée"
   ]
  },
  {
   "cell_type": "code",
   "execution_count": null,
   "metadata": {
    "tags": []
   },
   "outputs": [],
   "source": [
    "c.trace_EB_by_time(bins='30T', xticksRotation=90, ylim=(0,15))"
   ]
  },
  {
   "cell_type": "markdown",
   "metadata": {},
   "source": [
    "### Répartition des freinages d'urgence par cause d'EB"
   ]
  },
  {
   "cell_type": "markdown",
   "metadata": {},
   "source": [
    "À FAIRE"
   ]
  },
  {
   "cell_type": "markdown",
   "metadata": {},
   "source": [
    "## Corrélations"
   ]
  },
  {
   "cell_type": "markdown",
   "metadata": {},
   "source": [
    "### Corrélation entre nombre de FU par interstation et écart entre temps de parcours moyen et mini"
   ]
  },
  {
   "cell_type": "markdown",
   "metadata": {},
   "source": [
    "## Brouillons de code"
   ]
  },
  {
   "cell_type": "code",
   "execution_count": null,
   "metadata": {},
   "outputs": [],
   "source": [
    "running_times = pd.concat([running_times_FIVP, running_times_RC4])\n",
    "running_times"
   ]
  },
  {
   "cell_type": "code",
   "execution_count": null,
   "metadata": {},
   "outputs": [],
   "source": [
    "fig = plt.figure(figsize=(16,4))\n",
    "\n",
    "sns.barplot(data=running_times, x='mouvement', y='Duree_MVT', hue='Source')\n",
    "plt.title(\"Temps de parcours moyen\")\n",
    "plt.xticks(rotation=90)\n",
    "plt.show()"
   ]
  },
  {
   "cell_type": "code",
   "execution_count": null,
   "metadata": {},
   "outputs": [],
   "source": [
    "delta_running_times = running_times_RC4.merge(running_times_FIVP, on='mouvement', left_index=True)\n",
    "delta_running_times['delta'] = delta_running_times['Duree_MVT_y'] - delta_running_times['Duree_MVT_x']\n",
    "delta_running_times = delta_running_times[['mouvement', 'delta']]"
   ]
  },
  {
   "cell_type": "code",
   "execution_count": null,
   "metadata": {},
   "outputs": [],
   "source": [
    "delta_running_times = delta_running_times[delta_running_times['delta'] > -50]"
   ]
  },
  {
   "cell_type": "code",
   "execution_count": null,
   "metadata": {},
   "outputs": [],
   "source": [
    "fig = plt.figure(figsize=(16,4))\n",
    "sns.barplot(data=delta_running_times, x='mouvement', y='delta', color='tab:blue',\n",
    "           label=f\"gain moyen par station: {delta_running_times['delta'].mean():.2f}s\")\n",
    "plt.title(\"Écart moyen de temps de parcours entre ATO Lot 3 RC4 sur site et FIVP 137B64\",\n",
    "         size=16)\n",
    "plt.xticks(rotation=90)\n",
    "plt.legend()\n",
    "plt.show()"
   ]
  },
  {
   "cell_type": "code",
   "execution_count": null,
   "metadata": {},
   "outputs": [],
   "source": [
    "fig = plt.figure(figsize=(16,4))\n",
    "sns.set_style()\n",
    "sns.barplot(data=delta_running_times, x='mouvement', y='delta', hue='type_interstation', dodge=False)\n",
    "plt.title(\"Écart moyen de temps de parcours entre ATO Lot 3 RC4 (mono-train) sur site et FIVP (40 trains) 137B64\",\n",
    "         size=16)\n",
    "plt.xticks(rotation=90)\n",
    "plt.ylabel('Delta temps de parcours')\n",
    "plt.legend()\n",
    "plt.show()"
   ]
  },
  {
   "cell_type": "code",
   "execution_count": null,
   "metadata": {},
   "outputs": [],
   "source": [
    "fig = plt.figure(figsize=(16,4))\n",
    "delta_running_times_standard = delta_running_times[delta_running_times['type_interstation'] == 'Standard']\n",
    "sns.barplot(data=delta_running_times_standard, x='mouvement', y='delta', color='tab:blue',\n",
    "           label=f\"gain moyen par station: {delta_running_times_standard['delta'].mean():.2f}s\")\n",
    "plt.title(\"Écart moyen de temps de parcours entre ATO Lot 3 RC4 (mono-train) sur site et FIVP 137B64 sur les interstation standard\",\n",
    "         size=16)\n",
    "plt.xticks(rotation=90)\n",
    "plt.legend()\n",
    "plt.show()"
   ]
  },
  {
   "cell_type": "code",
   "execution_count": null,
   "metadata": {},
   "outputs": [],
   "source": [
    "tps_parcours = pd.read_excel('./tps_parcours_RC3_RC4.xlsx')\n",
    "tps_parcours_137b64 = tps_parcours[['mouvement', '1.3.7.BETA64']].rename(columns={'1.3.7.BETA64': 'duree'})\n",
    "tps_parcours_137b64['Version'] = '137b64_mono'"
   ]
  },
  {
   "cell_type": "code",
   "execution_count": null,
   "metadata": {},
   "outputs": [],
   "source": [
    "fig = plt.figure(figsize=(16,16))\n",
    "sns.barplot(data=tps_parcours_137b64, y='mouvement', x='duree', color='tab:blue', orient='h')"
   ]
  },
  {
   "cell_type": "code",
   "execution_count": null,
   "metadata": {},
   "outputs": [],
   "source": [
    "running_times_FIVP = running_times_FIVP.rename(columns={'Duree_MVT': 'duree'})\n",
    "running_times = pd.concat([running_times_FIVP, tps_parcours_137b64])\n",
    "running_times[running_times['mouvement'] == \"HEL1-MAR1\"]"
   ]
  },
  {
   "cell_type": "code",
   "execution_count": null,
   "metadata": {
    "scrolled": true
   },
   "outputs": [],
   "source": [
    "fig = plt.figure(figsize=(16,4))\n",
    "\n",
    "sns.barplot(data=running_times, x='mouvement', y='duree', hue='Version')\n",
    "plt.title(\"Temps de parcours comparés mono vs multi trains en FIVP 137b64\")\n",
    "plt.xticks(rotation=90)\n",
    "plt.legend(loc='upper left')\n",
    "plt.show()"
   ]
  },
  {
   "cell_type": "code",
   "execution_count": null,
   "metadata": {},
   "outputs": [],
   "source": [
    "delta_running_times = tps_parcours_137b64.merge(running_times_FIVP, on='mouvement', left_index=True)\n",
    "delta_running_times['delta'] = delta_running_times['duree_y'] - delta_running_times['duree_x']\n",
    "delta_running_times = delta_running_times[['mouvement', 'delta']]"
   ]
  },
  {
   "cell_type": "code",
   "execution_count": null,
   "metadata": {},
   "outputs": [],
   "source": [
    "# delta_running_times = delta_running_times[delta_running_times['delta'] > -50]"
   ]
  },
  {
   "cell_type": "code",
   "execution_count": null,
   "metadata": {},
   "outputs": [],
   "source": [
    "fig = plt.figure(figsize=(16,4))\n",
    "sns.barplot(data=delta_running_times, x='mouvement', y='delta', color='tab:blue',\n",
    "           label=f\"gain moyen par station: {delta_running_times['delta'].mean():.2f}s\")\n",
    "plt.title(\"Écart moyen de temps de parcours entre mono train et multi trains FIVP 137b64\",\n",
    "         size=16)\n",
    "plt.xticks(rotation=90)\n",
    "plt.legend()\n",
    "plt.show()"
   ]
  },
  {
   "cell_type": "code",
   "execution_count": null,
   "metadata": {},
   "outputs": [],
   "source": [
    "fig = plt.figure(figsize=(16,4))\n",
    "sns.set_style()\n",
    "sns.barplot(data=delta_running_times, x='mouvement', y='delta', hue='type_interstation', dodge=False)\n",
    "plt.title(\"Écart moyen de temps de parcours entre mono train et multi trains FIVP 137b64\",\n",
    "         size=16)\n",
    "plt.xticks(rotation=90)\n",
    "plt.ylabel('Delta temps de parcours')\n",
    "plt.legend()\n",
    "plt.show()"
   ]
  },
  {
   "cell_type": "code",
   "execution_count": null,
   "metadata": {},
   "outputs": [],
   "source": [
    "fig = plt.figure(figsize=(16,4))\n",
    "delta_running_times_standard = delta_running_times[delta_running_times['type_interstation'] == 'Standard']\n",
    "sns.barplot(data=delta_running_times_standard, x='mouvement', y='delta', color='tab:blue',\n",
    "           label=f\"perte moyenne par station: {delta_running_times_standard['delta'].mean():.2f}s\")\n",
    "plt.title(\"Écart moyen de temps de parcours entre mono train et multi trains FIVP 137b64 sur les interstation standard\",\n",
    "         size=16)\n",
    "plt.xticks(rotation=90)\n",
    "plt.legend()\n",
    "plt.show()"
   ]
  }
 ],
 "metadata": {
  "kernelspec": {
   "display_name": "Python 3",
   "language": "python",
   "name": "python3"
  },
  "language_info": {
   "codemirror_mode": {
    "name": "ipython",
    "version": 3
   },
   "file_extension": ".py",
   "mimetype": "text/x-python",
   "name": "python",
   "nbconvert_exporter": "python",
   "pygments_lexer": "ipython3",
   "version": "3.9.1"
  }
 },
 "nbformat": 4,
 "nbformat_minor": 4
}

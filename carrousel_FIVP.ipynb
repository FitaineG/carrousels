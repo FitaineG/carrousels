{
 "cells": [
  {
   "cell_type": "markdown",
   "metadata": {},
   "source": [
    "# Analyses d'un carrousel"
   ]
  },
  {
   "cell_type": "code",
   "execution_count": null,
   "metadata": {},
   "outputs": [],
   "source": [
    "import pandas as pd\n",
    "import numpy as np\n",
    "import matplotlib.pyplot as plt\n",
    "import seaborn as sns\n",
    "import importlib"
   ]
  },
  {
   "cell_type": "code",
   "execution_count": 4,
   "metadata": {
    "scrolled": true
   },
   "outputs": [
    {
     "name": "stdout",
     "output_type": "stream",
     "text": [
      "    \"\"\"import movement data from path into a pandas.DataFrame adding source,\n",
      "    context and version as new columns to uniquely identify imported data\n",
      "    and label graphs.\n",
      "    Data file can be in two formats, xls (default) or csv.\n",
      "    Rows with missing data are dropped if specified (True by default)\n",
      "    'build' can be specified to name specific build instead of using\n",
      "    control_software column\n",
      "\n",
      "    Parameters\n",
      "    ----------\n",
      "    path : string\n",
      "        path to the data file to get.\n",
      "    format : string, optional\n",
      "        format of data file. The default is 'xls'.\n",
      "        Other option is 'csv'\n",
      "    sheet : string, optional\n",
      "        sheet name to import. The default is 0 (first sheet)\n",
      "    source : string\n",
      "        source of data as string. Will be added to the data as new col.\n",
      "        Typically 'FIVP', 'Site'.\n",
      "    context : string\n",
      "        context of data as a string. Will be added to the data as new col.\n",
      "        Typically 'mono-train', 'multi-trains'.\n",
      "    build : string, optional\n",
      "        name of specific build. The default is None.\n",
      "    dropna : bool, optional\n",
      "        whether or not to drop rows with missing data.\n",
      "        The default is True.\n",
      "    mapping_interstations : dict, optional\n",
      "        dict providing list of strings corresponding to each one of the\n",
      "        following movement types: 'interstation', 'retournement' or 'terminus'.\n",
      "        To disable mapping, use {}.\n",
      "        The default value is 'interstations' defined in this module.\n",
      "    rename_cols : dict, optional\n",
      "        provides mapping to rename columns.\n",
      "        To disable renaming, use {}.\n",
      "        The default value is 'movement_cols_name' defined in this module.\n",
      "    drop_cols : list, optional\n",
      "        list of columns to drop.\n",
      "        To disable, use [].\n",
      "        The default value is 'cols_movement_drop' defined in this module.\n",
      "\n",
      "    Returns\n",
      "    -------\n",
      "    pandas.DataFrame\n",
      "        the data as a pandas.DataFrame with additional columns describing\n",
      "        the source and context of the data\n",
      "\n",
      "    Raises\n",
      "    ------\n",
      "    XLRDError\n",
      "        For error in case the 'sheet' input does not match with an actual\n",
      "        sheet in the excel file from path.\n",
      "        test\n",
      "        test2\n",
      "        test3\n",
      "        test4\n",
      "\n",
      "    \n",
      "    \"\"\"\n",
      "    \"\"\"\n",
      "\n",
      "    Parameters\n",
      "    ----------\n",
      "    mouvement :\n",
      "        \n",
      "    mapping :\n",
      "        \n",
      "\n",
      "    Returns\n",
      "    -------\n",
      "\n",
      "    \"\"\"\n",
      "    \"\"\"import EB data from path into a pandas.DataFrame adding source,\n",
      "    context and version as new columns to uniquely identify imported data\n",
      "    and label graphs.\n",
      "    Data file can be in two formats, xls (default) or csv.\n",
      "    Rows with missing data are dropped if specified (True by default)\n",
      "    'build' can be specified to name specific build instead of using\n",
      "    control_software column\n",
      "\n",
      "    Parameters\n",
      "    ----------\n",
      "    path : string\n",
      "        path to the data file to get.\n",
      "    source : string\n",
      "        source of data as string. Will be added to the data as new col.\n",
      "        Typically 'FIVP', 'Site'.\n",
      "    context : string\n",
      "        context of data as a string. Will be added to the data as new col.\n",
      "        Typically 'mono-train', 'multi-trains'.\n",
      "    format : string, optional\n",
      "        format of data file. The default is 'xls'.\n",
      "        Other option is 'csv'\n",
      "    sheet : string, optional\n",
      "        sheet name to import. The default is 0 (first sheet)\n",
      "    build : string, optional\n",
      "        name of specific build. The default is None.\n",
      "    dropna : bool, optional\n",
      "        whether or not to drop rows with missing data.\n",
      "        The default is True.\n",
      "    en_mouvement : bool, optional\n",
      "        whether or not import only EBs which occured at non null speed.\n",
      "        The default is True.\n",
      "    drop_cols : list of strings, optional\n",
      "        List of column names to drop.\n",
      "        To disable, use [].\n",
      "        The default is cols_EB_drop.\n",
      "\n",
      "    Returns\n",
      "    -------\n",
      "    pandas.DataFrame\n",
      "        the EB data as a pandas.DataFrame with additional columns describing\n",
      "        the source and context of the EB data\n",
      "\n",
      "    Raises\n",
      "    ------\n",
      "    XLRDError\n",
      "        For error in case the 'sheet' input does not match with an actual\n",
      "        sheet in the excel file from path.\n",
      "\n",
      "    \n",
      "    \"\"\"\n"
     ]
    }
   ],
   "source": [
    "import os\n",
    "from pyment import PyComment\n",
    "\n",
    "c = PyComment('./carrouselsAnalysis/data.py', output_style='numpydoc')\n",
    "c.proceed()\n",
    "c.diff()\n",
    "for s in c.get_output_docs():\n",
    "    print(s)"
   ]
  },
  {
   "cell_type": "code",
   "execution_count": null,
   "metadata": {},
   "outputs": [],
   "source": [
    "get_EB_data??"
   ]
  },
  {
   "cell_type": "code",
   "execution_count": null,
   "metadata": {},
   "outputs": [],
   "source": [
    "from carrouselsAnalysis import data"
   ]
  },
  {
   "cell_type": "code",
   "execution_count": 5,
   "metadata": {},
   "outputs": [],
   "source": [
    "PyComment??"
   ]
  },
  {
   "cell_type": "code",
   "execution_count": null,
   "metadata": {
    "scrolled": false
   },
   "outputs": [],
   "source": [
    "c = PyComment('./carrouselsAnalysis/data.py', output_style='numpydoc')\n",
    "docs = c._parse()\n",
    "print(docs)"
   ]
  },
  {
   "cell_type": "code",
   "execution_count": 8,
   "metadata": {},
   "outputs": [],
   "source": [
    "from pyment import docstring"
   ]
  },
  {
   "cell_type": "code",
   "execution_count": null,
   "metadata": {},
   "outputs": [],
   "source": [
    "from pyment.docstring import DocString"
   ]
  },
  {
   "cell_type": "code",
   "execution_count": null,
   "metadata": {},
   "outputs": [],
   "source": [
    "DocString.parse_docs??"
   ]
  },
  {
   "cell_type": "code",
   "execution_count": null,
   "metadata": {},
   "outputs": [],
   "source": [
    "DocString._extract_docs_return??"
   ]
  },
  {
   "cell_type": "code",
   "execution_count": 9,
   "metadata": {},
   "outputs": [],
   "source": [
    "docstring??"
   ]
  },
  {
   "cell_type": "code",
   "execution_count": 11,
   "metadata": {},
   "outputs": [
    {
     "name": "stdout",
     "output_type": "stream",
     "text": [
      "0.3.3\n"
     ]
    }
   ],
   "source": [
    "import pyment\n",
    "print(pyment.__version__)"
   ]
  },
  {
   "cell_type": "code",
   "execution_count": null,
   "metadata": {},
   "outputs": [],
   "source": [
    "from pyment.docstring import NumpydocTools"
   ]
  },
  {
   "cell_type": "code",
   "execution_count": null,
   "metadata": {},
   "outputs": [],
   "source": [
    "NumpydocTools.get_return_list??"
   ]
  },
  {
   "cell_type": "code",
   "execution_count": null,
   "metadata": {},
   "outputs": [],
   "source": [
    "NumpydocTools.get_raise_list??"
   ]
  },
  {
   "cell_type": "code",
   "execution_count": null,
   "metadata": {},
   "outputs": [],
   "source": [
    "NumpydocTools.get_list_key??"
   ]
  },
  {
   "cell_type": "code",
   "execution_count": null,
   "metadata": {},
   "outputs": [],
   "source": [
    "NumpydocTools.get_next_section_lines??"
   ]
  },
  {
   "cell_type": "code",
   "execution_count": null,
   "metadata": {},
   "outputs": [],
   "source": [
    "doc = docs[0]['docs']"
   ]
  },
  {
   "cell_type": "code",
   "execution_count": null,
   "metadata": {},
   "outputs": [],
   "source": [
    "doc"
   ]
  },
  {
   "cell_type": "code",
   "execution_count": null,
   "metadata": {},
   "outputs": [],
   "source": [
    "data = '\\n'.join([d.rstrip().replace(doc.docs['out']['spaces'], '', 1) for d in doc.docs['in']['raw'].splitlines()])"
   ]
  },
  {
   "cell_type": "code",
   "execution_count": null,
   "metadata": {},
   "outputs": [],
   "source": [
    "data"
   ]
  },
  {
   "cell_type": "code",
   "execution_count": null,
   "metadata": {},
   "outputs": [],
   "source": [
    "doc.docs['in']['return'] = doc.dst.numpydoc.get_return_list(data)"
   ]
  },
  {
   "cell_type": "code",
   "execution_count": null,
   "metadata": {},
   "outputs": [],
   "source": [
    "doc.docs['in']['return']"
   ]
  },
  {
   "cell_type": "code",
   "execution_count": null,
   "metadata": {},
   "outputs": [],
   "source": [
    "doc.docs['in']['raises'] = doc.dst.numpydoc.get_raise_list(data)"
   ]
  },
  {
   "cell_type": "code",
   "execution_count": null,
   "metadata": {},
   "outputs": [],
   "source": [
    "doc.docs['in']['raises']"
   ]
  },
  {
   "cell_type": "code",
   "execution_count": null,
   "metadata": {},
   "outputs": [],
   "source": [
    "doc2 = docs[2]['docs']"
   ]
  },
  {
   "cell_type": "code",
   "execution_count": null,
   "metadata": {},
   "outputs": [],
   "source": [
    "doc2.docs['in']['raw']"
   ]
  },
  {
   "cell_type": "code",
   "execution_count": null,
   "metadata": {},
   "outputs": [],
   "source": [
    "data2 = '\\n'.join([d.rstrip().replace(doc2.docs['out']['spaces'], '', 1) for d in doc2.docs['in']['raw'].splitlines()])"
   ]
  },
  {
   "cell_type": "code",
   "execution_count": null,
   "metadata": {},
   "outputs": [],
   "source": [
    "doc2.docs['in']['raises'] = doc2.dst.numpydoc.get_raise_list(data2)"
   ]
  },
  {
   "cell_type": "code",
   "execution_count": null,
   "metadata": {},
   "outputs": [],
   "source": [
    "doc2.docs['in']['raises']"
   ]
  },
  {
   "cell_type": "code",
   "execution_count": null,
   "metadata": {},
   "outputs": [],
   "source": [
    "lst_return = doc.dst.numpydoc.get_list_key(data, 'return')"
   ]
  },
  {
   "cell_type": "code",
   "execution_count": null,
   "metadata": {},
   "outputs": [],
   "source": [
    "lst_return"
   ]
  },
  {
   "cell_type": "code",
   "execution_count": null,
   "metadata": {},
   "outputs": [],
   "source": [
    "lst_raises = doc.dst.numpydoc.get_list_key(data, 'raise')"
   ]
  },
  {
   "cell_type": "code",
   "execution_count": null,
   "metadata": {},
   "outputs": [],
   "source": [
    "lst_raises"
   ]
  },
  {
   "cell_type": "code",
   "execution_count": null,
   "metadata": {},
   "outputs": [],
   "source": [
    "lst_return_2 = doc2.dst.numpydoc.get_list_key(data2, 'return')\n",
    "lst_return_2"
   ]
  },
  {
   "cell_type": "code",
   "execution_count": null,
   "metadata": {},
   "outputs": [],
   "source": [
    "lst_raises_2 = doc2.dst.numpydoc.get_list_key(data2, 'raise')\n",
    "lst_raises_2"
   ]
  },
  {
   "cell_type": "code",
   "execution_count": null,
   "metadata": {},
   "outputs": [],
   "source": [
    "lst_return = doc.dst.numpydoc.get_section_key_line(data.splitlines(), 'return')\n",
    "lst_return"
   ]
  },
  {
   "cell_type": "code",
   "execution_count": null,
   "metadata": {},
   "outputs": [],
   "source": [
    "start_return, end_return = doc.dst.numpydoc.get_next_section_lines(data.splitlines()[lst_return:])\n",
    "start_return, end_return"
   ]
  },
  {
   "cell_type": "code",
   "execution_count": null,
   "metadata": {},
   "outputs": [],
   "source": [
    "lst_raises = doc.dst.numpydoc.get_section_key_line(data.splitlines(), 'raise')\n",
    "lst_raises"
   ]
  },
  {
   "cell_type": "code",
   "execution_count": null,
   "metadata": {},
   "outputs": [],
   "source": [
    "start_raises, end_raises = doc.dst.numpydoc.get_next_section_lines(data.splitlines()[lst_raises:])\n",
    "start_raises, end_raises"
   ]
  },
  {
   "cell_type": "code",
   "execution_count": null,
   "metadata": {},
   "outputs": [],
   "source": [
    "lst_return_2 = doc2.dst.numpydoc.get_section_key_line(data2.splitlines(), 'return')\n",
    "lst_return_2"
   ]
  },
  {
   "cell_type": "code",
   "execution_count": null,
   "metadata": {},
   "outputs": [],
   "source": [
    "start_return2, end_return2 = doc2.dst.numpydoc.get_next_section_lines(data2.splitlines()[lst_return_2:])\n",
    "start_return2, end_return2"
   ]
  },
  {
   "cell_type": "code",
   "execution_count": null,
   "metadata": {},
   "outputs": [],
   "source": [
    "lst_raises_2 = doc2.dst.numpydoc.get_section_key_line(data2.splitlines(), 'raise')\n",
    "lst_raises_2"
   ]
  },
  {
   "cell_type": "code",
   "execution_count": null,
   "metadata": {},
   "outputs": [],
   "source": [
    "start_raises2, end_raises2 = doc2.dst.numpydoc.get_next_section_lines(data.splitlines()[lst_raises:])\n",
    "start_raises2, end_raises2"
   ]
  },
  {
   "cell_type": "code",
   "execution_count": null,
   "metadata": {},
   "outputs": [],
   "source": []
  },
  {
   "cell_type": "code",
   "execution_count": null,
   "metadata": {},
   "outputs": [],
   "source": [
    "# on utilise le style graphique de Seaborn\n",
    "sns.set_theme()"
   ]
  },
  {
   "cell_type": "code",
   "execution_count": null,
   "metadata": {},
   "outputs": [],
   "source": [
    "# Mapping interstations pour Lille = mapping par défaut de get_movement_data\n",
    "\n",
    "#intersecteurs = ['HDV1-PDB1', 'PDB2-HDV2', 'MAR1-FIV1', 'FIV2-MAR2',\n",
    "#                 'RIH1-REP1', 'REP2-RIH2', 'REP1-GAM1', 'GAM2-REP2']\n",
    "#terminus = ['CAL1', '4C2']\n",
    "#retournements = ['CALOV1', '4CEV2']\n",
    "#\n",
    "#mapping = {'intersecteurs': intersecteurs,\n",
    "#                    'terminus': terminus,\n",
    "#                    'retournements': retournements}"
   ]
  },
  {
   "cell_type": "code",
   "execution_count": null,
   "metadata": {},
   "outputs": [],
   "source": [
    "#import carrouselsAnalysis"
   ]
  },
  {
   "cell_type": "code",
   "execution_count": null,
   "metadata": {},
   "outputs": [],
   "source": [
    "#importlib.reload(carrouselsAnalysis)"
   ]
  },
  {
   "cell_type": "markdown",
   "metadata": {},
   "source": [
    "## Import des données"
   ]
  },
  {
   "cell_type": "code",
   "execution_count": null,
   "metadata": {},
   "outputs": [],
   "source": [
    "from carrouselsAnalysis.data import get_movement_data, get_EB_data"
   ]
  },
  {
   "cell_type": "code",
   "execution_count": null,
   "metadata": {},
   "outputs": [],
   "source": [
    "# chemin des données à importer en local\n",
    "chemin_data = './data/FIVP/Lille_FLUENCE_DATA-FIVP-2022-09-16__v2.xlsx'\n",
    "# source des données. Typiquement 'FIVP' ou 'Site'\n",
    "source = 'FIVP'\n",
    "# contexte du carrousel. Typiquement 'mono-train' ou 'multi-trains'\n",
    "contexte = 'multi-trains'\n",
    "# référence du build utilisé (si non officiel, sinon la SoftwareVersion est extraite de l'OMAP)\n",
    "# build = None"
   ]
  },
  {
   "cell_type": "code",
   "execution_count": null,
   "metadata": {},
   "outputs": [],
   "source": [
    "mouvements = get_movement_data(chemin_data, source=source, context=contexte)"
   ]
  },
  {
   "cell_type": "code",
   "execution_count": null,
   "metadata": {},
   "outputs": [],
   "source": [
    "data_EB = get_EB_data(chemin_data, source=source, context=contexte)"
   ]
  },
  {
   "cell_type": "markdown",
   "metadata": {},
   "source": [
    "## Précision d'arrêt par station"
   ]
  },
  {
   "cell_type": "code",
   "execution_count": null,
   "metadata": {},
   "outputs": [],
   "source": [
    "from carrouselsAnalysis.graphs import trace_precision_station, trace_dispersion_station"
   ]
  },
  {
   "cell_type": "markdown",
   "metadata": {},
   "source": [
    "### Précision moyenne"
   ]
  },
  {
   "cell_type": "code",
   "execution_count": null,
   "metadata": {},
   "outputs": [],
   "source": [
    "trace_precision_station(mouvements, xlim=(0.5,-0.2), color='tab:blue')"
   ]
  },
  {
   "cell_type": "markdown",
   "metadata": {},
   "source": [
    "### Dispersion des arrêts par station"
   ]
  },
  {
   "cell_type": "code",
   "execution_count": null,
   "metadata": {},
   "outputs": [],
   "source": [
    "trace_dispersion_station(mouvements)"
   ]
  },
  {
   "cell_type": "markdown",
   "metadata": {},
   "source": [
    "## Précision d'arrêt par train"
   ]
  },
  {
   "cell_type": "code",
   "execution_count": null,
   "metadata": {},
   "outputs": [],
   "source": [
    "from carrouselsAnalysis.graphs import trace_precision_train, trace_dispersion_train"
   ]
  },
  {
   "cell_type": "markdown",
   "metadata": {},
   "source": [
    "### Précision moyenne par train"
   ]
  },
  {
   "cell_type": "code",
   "execution_count": null,
   "metadata": {},
   "outputs": [],
   "source": [
    "trace_precision_train(mouvements, color='b')"
   ]
  },
  {
   "cell_type": "markdown",
   "metadata": {},
   "source": [
    "### Dispersion par train"
   ]
  },
  {
   "cell_type": "code",
   "execution_count": null,
   "metadata": {},
   "outputs": [],
   "source": [
    "trace_dispersion_train(mouvements, color='b')"
   ]
  },
  {
   "cell_type": "markdown",
   "metadata": {},
   "source": [
    "## Temps de parcours"
   ]
  },
  {
   "cell_type": "code",
   "execution_count": null,
   "metadata": {},
   "outputs": [],
   "source": [
    "mouvements['Mouvement'].head()"
   ]
  },
  {
   "cell_type": "code",
   "execution_count": null,
   "metadata": {},
   "outputs": [],
   "source": [
    "cols_tps_parcours = ['Mouvement', 'Duree', 'TypeMouvement']\n",
    "\n",
    "def trace_tps_parcours(data, cols=cols_tps_parcours, category=cols_tps_parcours[2],\n",
    "                      color=None, figsize=(16,5), ylim=None, sort=True):\n",
    "    \n",
    "    fig = plt.figure(figsize=figsize)\n",
    "    \n",
    "    if sort:\n",
    "        ordre = data[cols[0]].sort_values().unique()\n",
    "    else:\n",
    "        ordre = None\n",
    "    \n",
    "    if category:\n",
    "        color= None\n",
    "    \n",
    "    sns.barplot(data=data, x=cols[0], y=cols[1], hue=category, color=color, order=ordre, dodge=False,\n",
    "               ci=False)\n",
    "    plt.title(\"Temps de parcours moyen par mouvement\", size=16)\n",
    "    plt.xticks(rotation=90)\n",
    "    return plt.show()\n",
    "    "
   ]
  },
  {
   "cell_type": "code",
   "execution_count": null,
   "metadata": {},
   "outputs": [],
   "source": [
    "trace_tps_parcours(mouvements, color='b', category=None)"
   ]
  },
  {
   "cell_type": "code",
   "execution_count": null,
   "metadata": {},
   "outputs": [],
   "source": [
    "def trace_disp_tps_parcours(data, cols=cols_tps_parcours, category=cols_tps_parcours[2],\n",
    "                      color=None, figsize=(16,5), ylim=None, sort=True):\n",
    "    \n",
    "    fig = plt.figure(figsize=figsize)\n",
    "    \n",
    "    if sort:\n",
    "        ordre = data[cols[0]].sort_values().unique()\n",
    "    else:\n",
    "        ordre = None\n",
    "    \n",
    "    sns.boxplot(data=data, x=cols[0], y=cols[1], hue=category, color=color, order=ordre, dodge=False)\n",
    "    plt.title(\"Dispersion des temps de parcours par mouvement\", size=16)\n",
    "    plt.ylim(ylim)\n",
    "    plt.xticks(rotation=90)\n",
    "    return plt.show()"
   ]
  },
  {
   "cell_type": "code",
   "execution_count": null,
   "metadata": {},
   "outputs": [],
   "source": [
    "trace_disp_tps_parcours(mouvements, ylim=(44, 120))"
   ]
  },
  {
   "cell_type": "markdown",
   "metadata": {},
   "source": [
    "## Temps de parcours comparés mono-train vs multi-trains"
   ]
  },
  {
   "cell_type": "markdown",
   "metadata": {},
   "source": [
    "## Vitesse commerciale"
   ]
  },
  {
   "cell_type": "markdown",
   "metadata": {},
   "source": [
    "### Vitesse commerciale moyenne par voie"
   ]
  },
  {
   "cell_type": "markdown",
   "metadata": {},
   "source": [
    "### Vitesse commerciale avec les temps de parcours mini"
   ]
  },
  {
   "cell_type": "markdown",
   "metadata": {},
   "source": [
    "## Freinages d'urgence"
   ]
  },
  {
   "cell_type": "markdown",
   "metadata": {},
   "source": [
    "### Répartition des freinages d'urgence par mouvement"
   ]
  },
  {
   "cell_type": "markdown",
   "metadata": {},
   "source": [
    "#### y compris par type de mouvement"
   ]
  },
  {
   "cell_type": "markdown",
   "metadata": {},
   "source": [
    "### Répartition des freinages d'urgence par KP"
   ]
  },
  {
   "cell_type": "markdown",
   "metadata": {},
   "source": [
    "### Répartition des freinages d'urgence dans le temps"
   ]
  },
  {
   "cell_type": "markdown",
   "metadata": {},
   "source": [
    "### Répartition des freinages d'urgence par cause d'EB"
   ]
  },
  {
   "cell_type": "markdown",
   "metadata": {},
   "source": [
    "## Corrélations"
   ]
  },
  {
   "cell_type": "markdown",
   "metadata": {},
   "source": [
    "### Corrélation entre nombre de FU par interstation et écart entre temps de parcours moyen et mini"
   ]
  },
  {
   "cell_type": "code",
   "execution_count": null,
   "metadata": {},
   "outputs": [],
   "source": [
    "mean_accuracy_by_station_total = pd.concat([mean_accuracy_by_station, mean_accuracy_by_station_b70])\n",
    "mean_accuracy_by_station_total"
   ]
  },
  {
   "cell_type": "code",
   "execution_count": null,
   "metadata": {},
   "outputs": [],
   "source": [
    "fig = plt.figure(figsize=(8,10))\n",
    "\n",
    "sns.barplot(data=mean_accuracy_by_station_total, y='Stop_Station', x='Dist_SSP', hue='Beta', orient='h')\n",
    "plt.title(\"Précision moyenne d'arrêt par station\")\n",
    "plt.xticks(rotation=90)\n",
    "plt.xlim(1,-1)\n",
    "plt.axvline(mean_accuracy_by_station['Dist_SSP'].mean(), color='r', ls='--', label='Moyenne')\n",
    "plt.legend(title='Beta')\n",
    "plt.xlabel('Distance au SSP')\n",
    "plt.ylabel(\"Station d'arrivée\")\n",
    "plt.show()"
   ]
  },
  {
   "cell_type": "code",
   "execution_count": null,
   "metadata": {},
   "outputs": [],
   "source": [
    "fig = plt.figure(figsize=(8,16))\n",
    "\n",
    "sns.boxplot(x='Distance_from_train_front_end_to_stop_wished', y=data_B63['Stop_Station'], data=data_B63,\n",
    "            color='darkred')\n",
    "plt.xlabel(\"Distance au point d'arrêt visé\")\n",
    "plt.title(\"Répartition statistique des arrêts par station de fin de mouvement\")\n",
    "plt.ylabel(\"Station\")\n",
    "plt.xlim(0.5,0)\n",
    "plt.axvline(data_B64['Distance_from_train_front_end_to_stop_wished'].mean(), color='r', alpha=0.7, ls='--', label='Moyenne')\n",
    "plt.legend()\n",
    "_ = plt.xticks(rotation = 90)"
   ]
  },
  {
   "cell_type": "code",
   "execution_count": null,
   "metadata": {},
   "outputs": [],
   "source": [
    "fig = plt.figure(figsize=(8,16))\n",
    "\n",
    "sns.boxplot(x='Distance_from_train_front_end_to_stop_wished', y=data_B64['Stop_Station'], hue='Version', data=data_B64)\n",
    "plt.xlabel(\"Distance au point d'arrêt visé\")\n",
    "plt.title(\"Répartition statistique des arrêts par station de fin de mouvement\")\n",
    "plt.ylabel(\"Station\")\n",
    "plt.xlim(0.5,0)\n",
    "plt.axvline(data_B64['Distance_from_train_front_end_to_stop_wished'].mean(), color='r', alpha=0.7, ls='--', label='Moyenne')\n",
    "plt.legend()\n",
    "_ = plt.xticks(rotation = 90)\n"
   ]
  },
  {
   "cell_type": "code",
   "execution_count": null,
   "metadata": {},
   "outputs": [],
   "source": [
    "fig = plt.figure(figsize=(8,16))\n",
    "\n",
    "sns.boxplot(x='Distance_from_train_front_end_to_stop_wished', y=data['Stop_Station'], hue='Version', data=data)\n",
    "plt.xlabel(\"Distance au point d'arrêt visé\")\n",
    "plt.title(\"Répartition statistique des arrêts par station de fin de mouvement\")\n",
    "plt.ylabel(\"Station\")\n",
    "plt.xlim(0.5,0)\n",
    "plt.axvline(data['Distance_from_train_front_end_to_stop_wished'].mean(), color='r', alpha=0.7, ls='--', label='Moyenne')\n",
    "plt.legend()\n",
    "_ = plt.xticks(rotation = 90)\n"
   ]
  },
  {
   "cell_type": "markdown",
   "metadata": {},
   "source": [
    "## Temps de parcours"
   ]
  },
  {
   "cell_type": "code",
   "execution_count": null,
   "metadata": {
    "scrolled": false
   },
   "outputs": [],
   "source": [
    "running_times_FIVP = data_B64[data_B64['Duree_MVT'] < 200].groupby('mouvement')['Duree_MVT'].mean().reset_index()\n",
    "running_times_FIVP['Version'] = '137b64_multi'\n",
    "\n",
    "fig = plt.figure(figsize=(16,4))\n",
    "\n",
    "sns.barplot(data=running_times_FIVP, x='mouvement', y='Duree_MVT', color='tab:blue')\n",
    "plt.title(\"Temps de parcours moyen\")\n",
    "plt.xticks(rotation=90)\n",
    "plt.show()"
   ]
  },
  {
   "cell_type": "code",
   "execution_count": null,
   "metadata": {},
   "outputs": [],
   "source": [
    "fig = plt.figure(figsize=(16,4))\n",
    "\n",
    "sns.boxplot(x='mouvement', y='Duree_MVT', data=data_B64)\n",
    "plt.xlabel(\"mouvement\")\n",
    "plt.title(\"Répartition statistique des temps de parcours par mouvement\")\n",
    "plt.ylabel(\"Temps de parcours\")\n",
    "plt.legend()\n",
    "plt.ylim(0,110)\n",
    "_ = plt.xticks(rotation = 90)"
   ]
  },
  {
   "cell_type": "code",
   "execution_count": null,
   "metadata": {},
   "outputs": [],
   "source": [
    "data_RC4 = pd.read_excel('../LOT3_RC4/Lille_FLUENCE_DATA-2022-09-12__lot3__RC4.xlsx')\n",
    "data_RC4.dropna()\n",
    "# Define new column for mvt from mvt start to mvt stop\n",
    "data_RC4['mouvement'] = data_RC4['Start_Station'].str[:-2] + '-' + data_RC4['Stop_Station'].str[:-2]\n",
    "data_RC4['mouvement'].value_counts()"
   ]
  },
  {
   "cell_type": "code",
   "execution_count": null,
   "metadata": {},
   "outputs": [],
   "source": [
    "fig = plt.figure(figsize=(16,16))\n",
    "sns.barplot(data=data_RC4, y='mouvement', x='Duree_MVT', hue='NumTrain', orient='h')"
   ]
  },
  {
   "cell_type": "code",
   "execution_count": null,
   "metadata": {},
   "outputs": [],
   "source": [
    "data_RC4 = data_RC4[data_RC4['Duree_MVT'] < 150]"
   ]
  },
  {
   "cell_type": "code",
   "execution_count": null,
   "metadata": {},
   "outputs": [],
   "source": [
    "running_times_RC4 = data_RC4.groupby('mouvement')['Duree_MVT'].mean().reset_index()\n",
    "running_times_RC4['Version'] = 'Site_Lot3_RC4'"
   ]
  },
  {
   "cell_type": "code",
   "execution_count": null,
   "metadata": {},
   "outputs": [],
   "source": [
    "running_times = pd.concat([running_times_FIVP, running_times_RC4])\n",
    "running_times"
   ]
  },
  {
   "cell_type": "code",
   "execution_count": null,
   "metadata": {},
   "outputs": [],
   "source": [
    "fig = plt.figure(figsize=(16,4))\n",
    "\n",
    "sns.barplot(data=running_times, x='mouvement', y='Duree_MVT', hue='Source')\n",
    "plt.title(\"Temps de parcours moyen\")\n",
    "plt.xticks(rotation=90)\n",
    "plt.show()"
   ]
  },
  {
   "cell_type": "code",
   "execution_count": null,
   "metadata": {},
   "outputs": [],
   "source": [
    "delta_running_times = running_times_RC4.merge(running_times_FIVP, on='mouvement', left_index=True)\n",
    "delta_running_times['delta'] = delta_running_times['Duree_MVT_y'] - delta_running_times['Duree_MVT_x']\n",
    "delta_running_times = delta_running_times[['mouvement', 'delta']]"
   ]
  },
  {
   "cell_type": "code",
   "execution_count": null,
   "metadata": {},
   "outputs": [],
   "source": [
    "delta_running_times = delta_running_times[delta_running_times['delta'] > -50]"
   ]
  },
  {
   "cell_type": "code",
   "execution_count": null,
   "metadata": {},
   "outputs": [],
   "source": [
    "fig = plt.figure(figsize=(16,4))\n",
    "sns.barplot(data=delta_running_times, x='mouvement', y='delta', color='tab:blue',\n",
    "           label=f\"gain moyen par station: {delta_running_times['delta'].mean():.2f}s\")\n",
    "plt.title(\"Écart moyen de temps de parcours entre ATO Lot 3 RC4 sur site et FIVP 137B64\",\n",
    "         size=16)\n",
    "plt.xticks(rotation=90)\n",
    "plt.legend()\n",
    "plt.show()"
   ]
  },
  {
   "cell_type": "code",
   "execution_count": null,
   "metadata": {},
   "outputs": [],
   "source": [
    "fig = plt.figure(figsize=(16,4))\n",
    "sns.set_style()\n",
    "sns.barplot(data=delta_running_times, x='mouvement', y='delta', hue='type_interstation', dodge=False)\n",
    "plt.title(\"Écart moyen de temps de parcours entre ATO Lot 3 RC4 (mono-train) sur site et FIVP (40 trains) 137B64\",\n",
    "         size=16)\n",
    "plt.xticks(rotation=90)\n",
    "plt.ylabel('Delta temps de parcours')\n",
    "plt.legend()\n",
    "plt.show()"
   ]
  },
  {
   "cell_type": "code",
   "execution_count": null,
   "metadata": {
    "scrolled": false
   },
   "outputs": [],
   "source": [
    "fig = plt.figure(figsize=(16,4))\n",
    "delta_running_times_standard = delta_running_times[delta_running_times['type_interstation'] == 'Standard']\n",
    "sns.barplot(data=delta_running_times_standard, x='mouvement', y='delta', color='tab:blue',\n",
    "           label=f\"gain moyen par station: {delta_running_times_standard['delta'].mean():.2f}s\")\n",
    "plt.title(\"Écart moyen de temps de parcours entre ATO Lot 3 RC4 (mono-train) sur site et FIVP 137B64 sur les interstation standard\",\n",
    "         size=16)\n",
    "plt.xticks(rotation=90)\n",
    "plt.legend()\n",
    "plt.show()"
   ]
  },
  {
   "cell_type": "code",
   "execution_count": null,
   "metadata": {},
   "outputs": [],
   "source": [
    "tps_parcours = pd.read_excel('./tps_parcours_RC3_RC4.xlsx')\n",
    "tps_parcours_137b64 = tps_parcours[['mouvement', '1.3.7.BETA64']].rename(columns={'1.3.7.BETA64': 'duree'})\n",
    "tps_parcours_137b64['Version'] = '137b64_mono'"
   ]
  },
  {
   "cell_type": "code",
   "execution_count": null,
   "metadata": {},
   "outputs": [],
   "source": [
    "fig = plt.figure(figsize=(16,16))\n",
    "sns.barplot(data=tps_parcours_137b64, y='mouvement', x='duree', color='tab:blue', orient='h')"
   ]
  },
  {
   "cell_type": "code",
   "execution_count": null,
   "metadata": {},
   "outputs": [],
   "source": [
    "running_times_FIVP = running_times_FIVP.rename(columns={'Duree_MVT': 'duree'})\n",
    "running_times = pd.concat([running_times_FIVP, tps_parcours_137b64])\n",
    "running_times[running_times['mouvement'] == \"HEL1-MAR1\"]"
   ]
  },
  {
   "cell_type": "code",
   "execution_count": null,
   "metadata": {
    "scrolled": true
   },
   "outputs": [],
   "source": [
    "fig = plt.figure(figsize=(16,4))\n",
    "\n",
    "sns.barplot(data=running_times, x='mouvement', y='duree', hue='Version')\n",
    "plt.title(\"Temps de parcours comparés mono vs multi trains en FIVP 137b64\")\n",
    "plt.xticks(rotation=90)\n",
    "plt.legend(loc='upper left')\n",
    "plt.show()"
   ]
  },
  {
   "cell_type": "code",
   "execution_count": null,
   "metadata": {},
   "outputs": [],
   "source": [
    "delta_running_times = tps_parcours_137b64.merge(running_times_FIVP, on='mouvement', left_index=True)\n",
    "delta_running_times['delta'] = delta_running_times['duree_y'] - delta_running_times['duree_x']\n",
    "delta_running_times = delta_running_times[['mouvement', 'delta']]"
   ]
  },
  {
   "cell_type": "code",
   "execution_count": null,
   "metadata": {},
   "outputs": [],
   "source": [
    "# delta_running_times = delta_running_times[delta_running_times['delta'] > -50]"
   ]
  },
  {
   "cell_type": "code",
   "execution_count": null,
   "metadata": {},
   "outputs": [],
   "source": [
    "fig = plt.figure(figsize=(16,4))\n",
    "sns.barplot(data=delta_running_times, x='mouvement', y='delta', color='tab:blue',\n",
    "           label=f\"gain moyen par station: {delta_running_times['delta'].mean():.2f}s\")\n",
    "plt.title(\"Écart moyen de temps de parcours entre mono train et multi trains FIVP 137b64\",\n",
    "         size=16)\n",
    "plt.xticks(rotation=90)\n",
    "plt.legend()\n",
    "plt.show()"
   ]
  },
  {
   "cell_type": "code",
   "execution_count": null,
   "metadata": {},
   "outputs": [],
   "source": [
    "fig = plt.figure(figsize=(16,4))\n",
    "sns.set_style()\n",
    "sns.barplot(data=delta_running_times, x='mouvement', y='delta', hue='type_interstation', dodge=False)\n",
    "plt.title(\"Écart moyen de temps de parcours entre mono train et multi trains FIVP 137b64\",\n",
    "         size=16)\n",
    "plt.xticks(rotation=90)\n",
    "plt.ylabel('Delta temps de parcours')\n",
    "plt.legend()\n",
    "plt.show()"
   ]
  },
  {
   "cell_type": "code",
   "execution_count": null,
   "metadata": {
    "scrolled": false
   },
   "outputs": [],
   "source": [
    "fig = plt.figure(figsize=(16,4))\n",
    "delta_running_times_standard = delta_running_times[delta_running_times['type_interstation'] == 'Standard']\n",
    "sns.barplot(data=delta_running_times_standard, x='mouvement', y='delta', color='tab:blue',\n",
    "           label=f\"perte moyenne par station: {delta_running_times_standard['delta'].mean():.2f}s\")\n",
    "plt.title(\"Écart moyen de temps de parcours entre mono train et multi trains FIVP 137b64 sur les interstation standard\",\n",
    "         size=16)\n",
    "plt.xticks(rotation=90)\n",
    "plt.legend()\n",
    "plt.show()"
   ]
  }
 ],
 "metadata": {
  "kernelspec": {
   "display_name": "Python 3",
   "language": "python",
   "name": "python3"
  },
  "language_info": {
   "codemirror_mode": {
    "name": "ipython",
    "version": 3
   },
   "file_extension": ".py",
   "mimetype": "text/x-python",
   "name": "python",
   "nbconvert_exporter": "python",
   "pygments_lexer": "ipython3",
   "version": "3.9.1"
  }
 },
 "nbformat": 4,
 "nbformat_minor": 4
}
